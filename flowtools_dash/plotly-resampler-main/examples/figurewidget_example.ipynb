{
 "cells": [
  {
   "cell_type": "code",
   "execution_count": 1,
   "metadata": {},
   "outputs": [],
   "source": [
    "%load_ext autoreload\n",
    "%autoreload 2"
   ]
  },
  {
   "cell_type": "code",
   "execution_count": 2,
   "metadata": {},
   "outputs": [],
   "source": [
    "import plotly.graph_objs as go\n",
    "import numpy as np\n",
    "from plotly_resampler.figure_resampler import FigureWidgetResampler\n",
    "from plotly.subplots import make_subplots"
   ]
  },
  {
   "cell_type": "code",
   "execution_count": 3,
   "metadata": {},
   "outputs": [],
   "source": [
    "n = 1_000_000  # the nbr of data points\n",
    "x = np.arange(n)\n",
    "y = np.sin(x / 200) + np.random.random(len(x)) / 10"
   ]
  },
  {
   "cell_type": "markdown",
   "metadata": {},
   "source": [
    "**note**: \n",
    "* to use `FigureWidgetResampler`, you need to have `ipywidgets` installed\n",
    "* `FigureWidgetResampler` does not start a web applcication, making this wrapper suitable jupyter based-environemnts, where multiple `FigureWidgets` can be created"
   ]
  },
  {
   "cell_type": "markdown",
   "metadata": {},
   "source": [
    "### Basic `FigureWidgetResampler` example"
   ]
  },
  {
   "cell_type": "markdown",
   "metadata": {},
   "source": [
    "To utilize FigureWidgetResampler, you just need to:\n",
    "* wrap your figure with a `FigureWidgetResampler`\n",
    "* output this wrapped instance in a cell"
   ]
  },
  {
   "cell_type": "code",
   "execution_count": 4,
   "metadata": {},
   "outputs": [
    {
     "data": {
      "application/vnd.jupyter.widget-view+json": {
       "model_id": "f0b23a98e7a24f64b5d2a8d24ae1e96b",
       "version_major": 2,
       "version_minor": 0
      },
      "text/plain": [
       "FigureWidgetResampler({\n",
       "    'data': [{'name': '<b style=\"color:sandybrown\">[R]</b> trace 0 <i style=\"color:#fc…"
      ]
     },
     "metadata": {},
     "output_type": "display_data"
    }
   ],
   "source": [
    "# Wrap a figure with FigureWidgetResampler\n",
    "fw_fig = FigureWidgetResampler(make_subplots(rows=2, shared_xaxes=False))\n",
    "\n",
    "fw_fig.add_trace(go.Scattergl(), hf_x=x, hf_y=y * 1.000003**x, row=1, col=1)\n",
    "fw_fig.add_trace(go.Scattergl(), hf_x=x, hf_y=(y + 3) * 0.999997**x, row=2, col=1)\n",
    "fw_fig.update_layout(height=500, showlegend=True)\n",
    "\n",
    "# Output this wrapped instance in a cell\n",
    "fw_fig"
   ]
  },
  {
   "cell_type": "markdown",
   "metadata": {},
   "source": [
    "Note how the cells below are able to add data to the `FigureWidget`"
   ]
  },
  {
   "cell_type": "code",
   "execution_count": 5,
   "metadata": {},
   "outputs": [],
   "source": [
    "fw_fig.add_trace(go.Scattergl(), hf_x=x, hf_y=y * 1.0000028**x, row=1, col=1)\n",
    "fw_fig.add_trace(go.Scattergl(), hf_x=x, hf_y=y * 1.000002**x, row=1, col=1)"
   ]
  },
  {
   "cell_type": "code",
   "execution_count": 6,
   "metadata": {},
   "outputs": [],
   "source": [
    "fw_fig.add_trace(go.Scattergl(), hf_x=x, hf_y=(y + 3) * 0.999999**x, row=2, col=1)"
   ]
  },
  {
   "cell_type": "markdown",
   "metadata": {},
   "source": [
    "### time-series **annotation** using the on-click callback"
   ]
  },
  {
   "cell_type": "code",
   "execution_count": 7,
   "metadata": {},
   "outputs": [],
   "source": [
    "from ipywidgets import Dropdown\n",
    "from IPython.display import display"
   ]
  },
  {
   "cell_type": "code",
   "execution_count": 12,
   "metadata": {},
   "outputs": [
    {
     "data": {
      "application/vnd.jupyter.widget-view+json": {
       "model_id": "f3390f396a9d46a088290fb5991f3724",
       "version_major": 2,
       "version_minor": 0
      },
      "text/plain": [
       "Dropdown(options=('peak', 'through', 'rise', 'fall'), value='peak')"
      ]
     },
     "metadata": {},
     "output_type": "display_data"
    },
    {
     "data": {
      "application/vnd.jupyter.widget-view+json": {
       "model_id": "e80c27b76cd54fa3bdfe87bb80035941",
       "version_major": 2,
       "version_minor": 0
      },
      "text/plain": [
       "FigureWidgetResampler({\n",
       "    'data': [{'name': '<b style=\"color:sandybrown\">[R]</b> noisy sine <i style=\"color:…"
      ]
     },
     "metadata": {},
     "output_type": "display_data"
    }
   ],
   "source": [
    "# Proxy for a label class\n",
    "label_dict = {\n",
    "    \"peak\": {\n",
    "        \"type\": \"marker\",\n",
    "        \"trace_index\": 1,\n",
    "        \"plt_kwargs\": {\n",
    "        \"mode\": \"markers\", \"marker_symbol\": \"star\", \"marker_size\": 12, \"marker_color\": \"red\"\n",
    "        }\n",
    "    },\n",
    "    \"through\": {\n",
    "        \"type\": \"marker\",\n",
    "        \"trace_index\": 2,\n",
    "        \"plt_kwargs\": {\n",
    "        \"mode\": \"markers\", \"marker_symbol\": \"cross\", \"marker_size\": 12, \"line_color\": \"orange\"\n",
    "        }\n",
    "    },\n",
    "    \"rise\": {\n",
    "        \"type\": \"x-range\",\n",
    "        \"plt_kwargs\": {\n",
    "            \"line_width\": 0, \"fillcolor\": \"green\", \"opacity\": 0.3\n",
    "        }\n",
    "    },\n",
    "    \"fall\": {\n",
    "        \"type\": \"x-range\",\n",
    "        \"plt_kwargs\": {\n",
    "            \"line_width\": 0, \"fillcolor\": \"purple\", \"opacity\": 0.3\n",
    "        }\n",
    "    }\n",
    "}\n",
    "\n",
    "# Create a label selector\n",
    "label_selector = Dropdown()\n",
    "label_selector.options = list(label_dict.keys())\n",
    "\n",
    "# Construct the figure\n",
    "fw_fig = FigureWidgetResampler()\n",
    "fw_fig.add_trace(go.Scattergl(name=\"noisy sine\", opacity=0.8), hf_x=x, hf_y=y)\n",
    "for k, v in label_dict.items():\n",
    "    if v.get(\"type\", \"\").lower() == 'marker':\n",
    "        fw_fig.add_trace(go.Scattergl(name=k, **v.get(\"plt_kwargs\", {})))\n",
    "\n",
    "\n",
    "# Update logic\n",
    "prev_x = []\n",
    "point_list = []\n",
    "\n",
    "def update_point(trace, points, selector):\n",
    "    global prev_x, point_list\n",
    "    config = label_dict[label_selector.value]\n",
    "\n",
    "    if config.get(\"type\", \"\") == 'x-range':\n",
    "        prev_x.append(points.xs[0])\n",
    "        if len(prev_x) == 2:\n",
    "            fw_fig.add_vrect(prev_x[0], prev_x[1], **config.get(\"plt_kwargs\", {}))\n",
    "            prev_x = []\n",
    "\n",
    "    with fw_fig.batch_update():\n",
    "        if config.get(\"type\", \"\") == 'marker':\n",
    "            trace_index = config.get(\"trace_index\")\n",
    "            fw_fig.data[trace_index].x = list(fw_fig.data[trace_index].x) + points.xs\n",
    "            fw_fig.data[trace_index].y = list(fw_fig.data[trace_index].y) + points.ys\n",
    "\n",
    "fw_fig.data[0].on_click(update_point)\n",
    "\n",
    "display(label_selector)\n",
    "fw_fig"
   ]
  },
  {
   "cell_type": "markdown",
   "metadata": {},
   "source": [
    "### Adjusting the figure data using the `hf_data` property"
   ]
  },
  {
   "cell_type": "code",
   "execution_count": 9,
   "metadata": {},
   "outputs": [
    {
     "name": "stdout",
     "output_type": "stream",
     "text": [
      "\t[i] DOWNSAMPLE None\t1000000->1000\n",
      "\t[i] DOWNSAMPLE None\t1000000->1000\n"
     ]
    },
    {
     "data": {
      "application/vnd.jupyter.widget-view+json": {
       "model_id": "02cc8bd1dcdd44ab946cbfbe78821833",
       "version_major": 2,
       "version_minor": 0
      },
      "text/plain": [
       "FigureWidgetResampler({\n",
       "    'data': [{'name': '<b style=\"color:sandybrown\">[R]</b> trace 0 <i style=\"color:#fc…"
      ]
     },
     "metadata": {},
     "output_type": "display_data"
    }
   ],
   "source": [
    "fw_fig = FigureWidgetResampler(make_subplots(rows=2, shared_xaxes=False), verbose=True)\n",
    "fw_fig.update_layout(template='plotly_dark', height=600)\n",
    "fw_fig.add_trace(go.Scattergl(), hf_x=x, hf_y=y, row=1, col=1)\n",
    "fw_fig.add_trace(go.Scattergl(), hf_x=x, hf_y=y, row=2, col=1)\n",
    "fw_fig"
   ]
  },
  {
   "cell_type": "code",
   "execution_count": 10,
   "metadata": {},
   "outputs": [],
   "source": [
    "# After you've ran this cell, reset the axes of the above figure \n",
    "# or zoom in-out on the x-range\n",
    "fw_fig.hf_data[0]['y'] = - (y  + 3) * x / 1000\n",
    "fw_fig.hf_data[1]['y'] =  (y  + 3) * x / 1000"
   ]
  },
  {
   "cell_type": "markdown",
   "metadata": {},
   "source": [
    "### Multiple shared traces"
   ]
  },
  {
   "cell_type": "code",
   "execution_count": 11,
   "metadata": {},
   "outputs": [
    {
     "data": {
      "application/vnd.jupyter.widget-view+json": {
       "model_id": "549137c024764fadafb5343059def47f",
       "version_major": 2,
       "version_minor": 0
      },
      "text/plain": [
       "FigureWidgetResampler({\n",
       "    'data': [{'name': '<b style=\"color:sandybrown\">[R]</b> 0 <i style=\"color:#fc9944\">…"
      ]
     },
     "metadata": {},
     "output_type": "display_data"
    }
   ],
   "source": [
    "fig = FigureWidgetResampler()\n",
    "\n",
    "# 10 sensors, 500_000 datapoints each on a singe plot\n",
    "for i in range(10):\n",
    "    fig.add_trace(go.Scattergl(name=str(i)), hf_x=x, hf_y=y + i)\n",
    "\n",
    "fig.update_layout(\n",
    "    height=600, title=f\"10 traces -> {10*500_000:,} datapoints\", title_x=0.5\n",
    ")\n",
    "fig"
   ]
  }
 ],
 "metadata": {
  "interpreter": {
   "hash": "dda2a6ba7b442de4a5fc8ab16a06cb056e727f9750f1dde6d7d9fc5541ed6f4e"
  },
  "kernelspec": {
   "display_name": "plotly-resampler",
   "language": "python",
   "name": "python3"
  },
  "language_info": {
   "codemirror_mode": {
    "name": "ipython",
    "version": 3
   },
   "file_extension": ".py",
   "mimetype": "text/x-python",
   "name": "python",
   "nbconvert_exporter": "python",
   "pygments_lexer": "ipython3",
   "version": "3.8.10"
  },
  "widgets": {
   "application/vnd.jupyter.widget-state+json": {
    "state": {
     "1c83d8e47a8e40a9a503293990493f4c": {
      "buffers": [
       {
        "data": "LDaQTnNCyD9cY9rSRbXFP4vjiWtE3+I/AkRrJ03z1D+KTE3SevvgP5XzMBIiY+U/eA9Hc5Ko7D/Q7haGtXrkPxvZvDZEceo/jViUWl727D8TiGuvDUjrP9mAraZ/LOo/6DbGIdcRxT9PEczs5bjmP+zftNGVU8s/gK8ceo2EsT+khHj1aprlP4Qbe20zCtI/c69o+ypv4z9R9a5bCOjtP72hYBm/aeI/spC+U7kx7z9kXpYD6wDBPxIrr4WtNuw/TCymNI4UzD+gvwRkx+afP1iCmInhRLo/0zas/Jzl7j+SV63KnjvvPyCoNUqCDNo/Mjl2kjZo2T/b4FK5yKfhP1rSKFfuoe4/kmk328+D4j//4sxNbaHqP4BFHmja2eY/sLtjmid02z8Hd7/Cn8PnPw7ggZvEcOs/L85GSzBe7j8LJLPMAFLvP/zaqAhN2uw/S3KdKkSD4z/9CxoGneDsP/COFsChYaQ/JNWLQY4W1T9wl1XkTrCpP3TxSgipiMI/wJogGBu6vz/laWAIzYjgP+Ltj4sWmOs/EnrY/JKq3z/MCnv8M4XPP/b1EZrgUdw//9cMQchf4j/oz9Jh+v+yP896f4igSeM/oGYE0E1o3D+X4R8JD6HsPyTsk6WNDNU/suDPr/292j9V7Y9wxLftP4VdIQ8Aoes/4FovG0L9lT9MrdvzdlrXPxSZmkP8SsI/0ouBQBgZ7T9MoPRiHJTKPyK8FXIhaOc/csjQenDB3z+wa4lZMa6rP1G4O5rU6O0/Zr0h89sX7j8kpcIh88jPP+gFbPis/+A/aCuJOIxwxj8Y6QPTuNjFP9Tar4ek9cY/+LJ/lHPH5T/07JjejLTvP5BKs6dSPKQ/rOugA09Exz9ueggf3VbQP2ytCRJ84tY/XidvfTly5D9YjVbeBFTsP15YFgdRceY/Qcrdw1ql7T9GkPJaTIHjP7BcRI+eReU/8H8oC1r0tz+QbCMVf9TGPxCvfYxK888/fW/gqyLa4D+d/FIl2w7oP6y9viOoMd8/AMyyvKy22D8+FNNZ4fzrP+FufTUk8+U/JtZ9T32B6T8=",
        "encoding": "base64",
        "path": [
         "_data",
         0,
         "y",
         "value"
        ]
       }
      ],
      "model_module": "plotlywidget",
      "model_module_version": "^4.14.3",
      "model_name": "FigureModel",
      "state": {
       "_config": {
        "plotlyServerURL": "https://plot.ly"
       },
       "_data": [
        {
         "type": "scatter",
         "uid": "c541f32e-17c8-4aee-91bc-d1d04860572e",
         "x": [
          0,
          1,
          2,
          3,
          4,
          5,
          6,
          7,
          8,
          9,
          10,
          11,
          12,
          13,
          14,
          15,
          16,
          17,
          18,
          19,
          20,
          21,
          22,
          23,
          24,
          25,
          26,
          27,
          28,
          29,
          30,
          31,
          32,
          33,
          34,
          35,
          36,
          37,
          38,
          39,
          40,
          41,
          42,
          43,
          44,
          45,
          46,
          47,
          48,
          49,
          50,
          51,
          52,
          53,
          54,
          55,
          56,
          57,
          58,
          59,
          60,
          61,
          62,
          63,
          64,
          65,
          66,
          67,
          68,
          69,
          70,
          71,
          72,
          73,
          74,
          75,
          76,
          77,
          78,
          79,
          80,
          81,
          82,
          83,
          84,
          85,
          86,
          87,
          88,
          89,
          90,
          91,
          92,
          93,
          94,
          95,
          96,
          97,
          98,
          99
         ],
         "y": {
          "dtype": "float64",
          "shape": [
           100
          ],
          "value": {}
         }
        }
       ],
       "_js2py_layoutDelta": {
        "layout_delta": {
         "activeshape": {
          "fillcolor": "rgb(255,0,255)",
          "opacity": 0.5
         },
         "annotations": [],
         "autosize": true,
         "autotypenumbers": "strict",
         "calendar": "gregorian",
         "clickmode": "event",
         "colorscale": {
          "diverging": [
           [
            0,
            "#8e0152"
           ],
           [
            0.1,
            "#c51b7d"
           ],
           [
            0.2,
            "#de77ae"
           ],
           [
            0.3,
            "#f1b6da"
           ],
           [
            0.4,
            "#fde0ef"
           ],
           [
            0.5,
            "#f7f7f7"
           ],
           [
            0.6,
            "#e6f5d0"
           ],
           [
            0.7,
            "#b8e186"
           ],
           [
            0.8,
            "#7fbc41"
           ],
           [
            0.9,
            "#4d9221"
           ],
           [
            1,
            "#276419"
           ]
          ],
          "sequential": [
           [
            0,
            "#0d0887"
           ],
           [
            0.1111111111111111,
            "#46039f"
           ],
           [
            0.2222222222222222,
            "#7201a8"
           ],
           [
            0.3333333333333333,
            "#9c179e"
           ],
           [
            0.4444444444444444,
            "#bd3786"
           ],
           [
            0.5555555555555556,
            "#d8576b"
           ],
           [
            0.6666666666666666,
            "#ed7953"
           ],
           [
            0.7777777777777778,
            "#fb9f3a"
           ],
           [
            0.8888888888888888,
            "#fdca26"
           ],
           [
            1,
            "#f0f921"
           ]
          ],
          "sequentialminus": [
           [
            0,
            "#0d0887"
           ],
           [
            0.1111111111111111,
            "#46039f"
           ],
           [
            0.2222222222222222,
            "#7201a8"
           ],
           [
            0.3333333333333333,
            "#9c179e"
           ],
           [
            0.4444444444444444,
            "#bd3786"
           ],
           [
            0.5555555555555556,
            "#d8576b"
           ],
           [
            0.6666666666666666,
            "#ed7953"
           ],
           [
            0.7777777777777778,
            "#fb9f3a"
           ],
           [
            0.8888888888888888,
            "#fdca26"
           ],
           [
            1,
            "#f0f921"
           ]
          ]
         },
         "colorway": [
          "#636efa",
          "#EF553B",
          "#00cc96",
          "#ab63fa",
          "#FFA15A",
          "#19d3f3",
          "#FF6692",
          "#B6E880",
          "#FF97FF",
          "#FECB52"
         ],
         "dragmode": "zoom",
         "font": {
          "color": "#2a3f5f",
          "family": "\"Open Sans\", verdana, arial, sans-serif",
          "size": 12
         },
         "hidesources": false,
         "hoverdistance": 20,
         "hoverlabel": {
          "align": "left",
          "font": {
           "family": "Arial, sans-serif",
           "size": 13
          },
          "namelength": 15
         },
         "hovermode": "closest",
         "images": [],
         "margin": {
          "autoexpand": true
         },
         "modebar": {
          "activecolor": "rgba(68, 68, 68, 0.7)",
          "bgcolor": "rgba(255, 255, 255, 0.5)",
          "color": "rgba(68, 68, 68, 0.3)",
          "orientation": "h"
         },
         "newshape": {
          "drawdirection": "diagonal",
          "fillcolor": "rgba(0,0,0,0)",
          "fillrule": "evenodd",
          "layer": "above",
          "line": {
           "color": "#444",
           "dash": "solid",
           "width": 4
          },
          "opacity": 1
         },
         "paper_bgcolor": "white",
         "plot_bgcolor": "white",
         "separators": ".,",
         "shapes": [],
         "showlegend": false,
         "sliders": [],
         "spikedistance": 20,
         "title": {
          "font": {
           "color": "#2a3f5f",
           "family": "\"Open Sans\", verdana, arial, sans-serif",
           "size": 17
          },
          "pad": {
           "b": 0,
           "l": 0,
           "r": 0,
           "t": 0
          },
          "text": "Click to enter Plot title",
          "x": 0.05,
          "xanchor": "auto",
          "xref": "container",
          "y": "auto",
          "yanchor": "auto",
          "yref": "container"
         },
         "uniformtext": {
          "mode": false
         },
         "updatemenus": [],
         "width": 993.2,
         "xaxis": {
          "anchor": "y",
          "automargin": true,
          "autotypenumbers": "strict",
          "color": "#444",
          "constrain": "range",
          "constraintoward": "center",
          "domain": [
           0,
           1
          ],
          "dtick": 10,
          "exponentformat": "B",
          "fixedrange": false,
          "gridcolor": "#EBF0F8",
          "gridwidth": 1,
          "hoverformat": "",
          "layer": "above traces",
          "minexponent": 3,
          "nticks": 0,
          "range": [
           0,
           99
          ],
          "rangemode": "normal",
          "separatethousands": false,
          "showexponent": "all",
          "showgrid": true,
          "showline": false,
          "showticklabels": true,
          "side": "bottom",
          "tick0": 0,
          "tickangle": "auto",
          "tickfont": {
           "color": "#2a3f5f",
           "family": "\"Open Sans\", verdana, arial, sans-serif",
           "size": 12
          },
          "tickformat": "",
          "ticklabelposition": "outside",
          "tickmode": "auto",
          "tickprefix": "",
          "ticks": "",
          "ticksuffix": "",
          "title": {
           "font": {
            "color": "#2a3f5f",
            "family": "\"Open Sans\", verdana, arial, sans-serif",
            "size": 14
           },
           "standoff": 15,
           "text": "Click to enter X axis title"
          },
          "type": "linear",
          "visible": true,
          "zeroline": true,
          "zerolinecolor": "#EBF0F8",
          "zerolinewidth": 2
         },
         "yaxis": {
          "anchor": "x",
          "automargin": true,
          "autotypenumbers": "strict",
          "color": "#444",
          "constrain": "range",
          "constraintoward": "middle",
          "domain": [
           0,
           1
          ],
          "dtick": 0.2,
          "exponentformat": "B",
          "fixedrange": false,
          "gridcolor": "#EBF0F8",
          "gridwidth": 1,
          "hoverformat": "",
          "layer": "above traces",
          "minexponent": 3,
          "nticks": 0,
          "range": [
           -0.03237696803860817,
           1.044640712077876
          ],
          "rangemode": "normal",
          "separatethousands": false,
          "showexponent": "all",
          "showgrid": true,
          "showline": false,
          "showticklabels": true,
          "side": "left",
          "tick0": 0,
          "tickangle": "auto",
          "tickfont": {
           "color": "#2a3f5f",
           "family": "\"Open Sans\", verdana, arial, sans-serif",
           "size": 12
          },
          "tickformat": "",
          "ticklabelposition": "outside",
          "tickmode": "auto",
          "tickprefix": "",
          "ticks": "",
          "ticksuffix": "",
          "title": {
           "font": {
            "color": "#2a3f5f",
            "family": "\"Open Sans\", verdana, arial, sans-serif",
            "size": 14
           },
           "standoff": 15,
           "text": "Click to enter Y axis title"
          },
          "type": "linear",
          "visible": true,
          "zeroline": true,
          "zerolinecolor": "#EBF0F8",
          "zerolinewidth": 2
         }
        },
        "layout_edit_id": 6
       },
       "_js2py_restyle": {},
       "_js2py_update": {},
       "_last_layout_edit_id": 6,
       "_last_trace_edit_id": 1,
       "_layout": {
        "height": 300,
        "legend": {
         "orientation": "h"
        },
        "margin": {
         "b": 10,
         "l": 45,
         "pad": 3,
         "r": 5,
         "t": 25
        },
        "template": {
         "data": {
          "bar": [
           {
            "error_x": {
             "color": "#2a3f5f"
            },
            "error_y": {
             "color": "#2a3f5f"
            },
            "marker": {
             "line": {
              "color": "white",
              "width": 0.5
             }
            },
            "type": "bar"
           }
          ],
          "barpolar": [
           {
            "marker": {
             "line": {
              "color": "white",
              "width": 0.5
             }
            },
            "type": "barpolar"
           }
          ],
          "carpet": [
           {
            "aaxis": {
             "endlinecolor": "#2a3f5f",
             "gridcolor": "#C8D4E3",
             "linecolor": "#C8D4E3",
             "minorgridcolor": "#C8D4E3",
             "startlinecolor": "#2a3f5f"
            },
            "baxis": {
             "endlinecolor": "#2a3f5f",
             "gridcolor": "#C8D4E3",
             "linecolor": "#C8D4E3",
             "minorgridcolor": "#C8D4E3",
             "startlinecolor": "#2a3f5f"
            },
            "type": "carpet"
           }
          ],
          "choropleth": [
           {
            "colorbar": {
             "outlinewidth": 0,
             "ticks": ""
            },
            "type": "choropleth"
           }
          ],
          "contour": [
           {
            "colorbar": {
             "outlinewidth": 0,
             "ticks": ""
            },
            "colorscale": [
             [
              0,
              "#0d0887"
             ],
             [
              0.1111111111111111,
              "#46039f"
             ],
             [
              0.2222222222222222,
              "#7201a8"
             ],
             [
              0.3333333333333333,
              "#9c179e"
             ],
             [
              0.4444444444444444,
              "#bd3786"
             ],
             [
              0.5555555555555556,
              "#d8576b"
             ],
             [
              0.6666666666666666,
              "#ed7953"
             ],
             [
              0.7777777777777778,
              "#fb9f3a"
             ],
             [
              0.8888888888888888,
              "#fdca26"
             ],
             [
              1,
              "#f0f921"
             ]
            ],
            "type": "contour"
           }
          ],
          "contourcarpet": [
           {
            "colorbar": {
             "outlinewidth": 0,
             "ticks": ""
            },
            "type": "contourcarpet"
           }
          ],
          "heatmap": [
           {
            "colorbar": {
             "outlinewidth": 0,
             "ticks": ""
            },
            "colorscale": [
             [
              0,
              "#0d0887"
             ],
             [
              0.1111111111111111,
              "#46039f"
             ],
             [
              0.2222222222222222,
              "#7201a8"
             ],
             [
              0.3333333333333333,
              "#9c179e"
             ],
             [
              0.4444444444444444,
              "#bd3786"
             ],
             [
              0.5555555555555556,
              "#d8576b"
             ],
             [
              0.6666666666666666,
              "#ed7953"
             ],
             [
              0.7777777777777778,
              "#fb9f3a"
             ],
             [
              0.8888888888888888,
              "#fdca26"
             ],
             [
              1,
              "#f0f921"
             ]
            ],
            "type": "heatmap"
           }
          ],
          "heatmapgl": [
           {
            "colorbar": {
             "outlinewidth": 0,
             "ticks": ""
            },
            "colorscale": [
             [
              0,
              "#0d0887"
             ],
             [
              0.1111111111111111,
              "#46039f"
             ],
             [
              0.2222222222222222,
              "#7201a8"
             ],
             [
              0.3333333333333333,
              "#9c179e"
             ],
             [
              0.4444444444444444,
              "#bd3786"
             ],
             [
              0.5555555555555556,
              "#d8576b"
             ],
             [
              0.6666666666666666,
              "#ed7953"
             ],
             [
              0.7777777777777778,
              "#fb9f3a"
             ],
             [
              0.8888888888888888,
              "#fdca26"
             ],
             [
              1,
              "#f0f921"
             ]
            ],
            "type": "heatmapgl"
           }
          ],
          "histogram": [
           {
            "marker": {
             "colorbar": {
              "outlinewidth": 0,
              "ticks": ""
             }
            },
            "type": "histogram"
           }
          ],
          "histogram2d": [
           {
            "colorbar": {
             "outlinewidth": 0,
             "ticks": ""
            },
            "colorscale": [
             [
              0,
              "#0d0887"
             ],
             [
              0.1111111111111111,
              "#46039f"
             ],
             [
              0.2222222222222222,
              "#7201a8"
             ],
             [
              0.3333333333333333,
              "#9c179e"
             ],
             [
              0.4444444444444444,
              "#bd3786"
             ],
             [
              0.5555555555555556,
              "#d8576b"
             ],
             [
              0.6666666666666666,
              "#ed7953"
             ],
             [
              0.7777777777777778,
              "#fb9f3a"
             ],
             [
              0.8888888888888888,
              "#fdca26"
             ],
             [
              1,
              "#f0f921"
             ]
            ],
            "type": "histogram2d"
           }
          ],
          "histogram2dcontour": [
           {
            "colorbar": {
             "outlinewidth": 0,
             "ticks": ""
            },
            "colorscale": [
             [
              0,
              "#0d0887"
             ],
             [
              0.1111111111111111,
              "#46039f"
             ],
             [
              0.2222222222222222,
              "#7201a8"
             ],
             [
              0.3333333333333333,
              "#9c179e"
             ],
             [
              0.4444444444444444,
              "#bd3786"
             ],
             [
              0.5555555555555556,
              "#d8576b"
             ],
             [
              0.6666666666666666,
              "#ed7953"
             ],
             [
              0.7777777777777778,
              "#fb9f3a"
             ],
             [
              0.8888888888888888,
              "#fdca26"
             ],
             [
              1,
              "#f0f921"
             ]
            ],
            "type": "histogram2dcontour"
           }
          ],
          "mesh3d": [
           {
            "colorbar": {
             "outlinewidth": 0,
             "ticks": ""
            },
            "type": "mesh3d"
           }
          ],
          "parcoords": [
           {
            "line": {
             "colorbar": {
              "outlinewidth": 0,
              "ticks": ""
             }
            },
            "type": "parcoords"
           }
          ],
          "pie": [
           {
            "automargin": true,
            "type": "pie"
           }
          ],
          "scatter": [
           {
            "marker": {
             "colorbar": {
              "outlinewidth": 0,
              "ticks": ""
             }
            },
            "type": "scatter"
           }
          ],
          "scatter3d": [
           {
            "line": {
             "colorbar": {
              "outlinewidth": 0,
              "ticks": ""
             }
            },
            "marker": {
             "colorbar": {
              "outlinewidth": 0,
              "ticks": ""
             }
            },
            "type": "scatter3d"
           }
          ],
          "scattercarpet": [
           {
            "marker": {
             "colorbar": {
              "outlinewidth": 0,
              "ticks": ""
             }
            },
            "type": "scattercarpet"
           }
          ],
          "scattergeo": [
           {
            "marker": {
             "colorbar": {
              "outlinewidth": 0,
              "ticks": ""
             }
            },
            "type": "scattergeo"
           }
          ],
          "scattergl": [
           {
            "marker": {
             "colorbar": {
              "outlinewidth": 0,
              "ticks": ""
             }
            },
            "type": "scattergl"
           }
          ],
          "scattermapbox": [
           {
            "marker": {
             "colorbar": {
              "outlinewidth": 0,
              "ticks": ""
             }
            },
            "type": "scattermapbox"
           }
          ],
          "scatterpolar": [
           {
            "marker": {
             "colorbar": {
              "outlinewidth": 0,
              "ticks": ""
             }
            },
            "type": "scatterpolar"
           }
          ],
          "scatterpolargl": [
           {
            "marker": {
             "colorbar": {
              "outlinewidth": 0,
              "ticks": ""
             }
            },
            "type": "scatterpolargl"
           }
          ],
          "scatterternary": [
           {
            "marker": {
             "colorbar": {
              "outlinewidth": 0,
              "ticks": ""
             }
            },
            "type": "scatterternary"
           }
          ],
          "surface": [
           {
            "colorbar": {
             "outlinewidth": 0,
             "ticks": ""
            },
            "colorscale": [
             [
              0,
              "#0d0887"
             ],
             [
              0.1111111111111111,
              "#46039f"
             ],
             [
              0.2222222222222222,
              "#7201a8"
             ],
             [
              0.3333333333333333,
              "#9c179e"
             ],
             [
              0.4444444444444444,
              "#bd3786"
             ],
             [
              0.5555555555555556,
              "#d8576b"
             ],
             [
              0.6666666666666666,
              "#ed7953"
             ],
             [
              0.7777777777777778,
              "#fb9f3a"
             ],
             [
              0.8888888888888888,
              "#fdca26"
             ],
             [
              1,
              "#f0f921"
             ]
            ],
            "type": "surface"
           }
          ],
          "table": [
           {
            "cells": {
             "fill": {
              "color": "#EBF0F8"
             },
             "line": {
              "color": "white"
             }
            },
            "header": {
             "fill": {
              "color": "#C8D4E3"
             },
             "line": {
              "color": "white"
             }
            },
            "type": "table"
           }
          ]
         },
         "layout": {
          "annotationdefaults": {
           "arrowcolor": "#2a3f5f",
           "arrowhead": 0,
           "arrowwidth": 1
          },
          "autotypenumbers": "strict",
          "coloraxis": {
           "colorbar": {
            "outlinewidth": 0,
            "ticks": ""
           }
          },
          "colorscale": {
           "diverging": [
            [
             0,
             "#8e0152"
            ],
            [
             0.1,
             "#c51b7d"
            ],
            [
             0.2,
             "#de77ae"
            ],
            [
             0.3,
             "#f1b6da"
            ],
            [
             0.4,
             "#fde0ef"
            ],
            [
             0.5,
             "#f7f7f7"
            ],
            [
             0.6,
             "#e6f5d0"
            ],
            [
             0.7,
             "#b8e186"
            ],
            [
             0.8,
             "#7fbc41"
            ],
            [
             0.9,
             "#4d9221"
            ],
            [
             1,
             "#276419"
            ]
           ],
           "sequential": [
            [
             0,
             "#0d0887"
            ],
            [
             0.1111111111111111,
             "#46039f"
            ],
            [
             0.2222222222222222,
             "#7201a8"
            ],
            [
             0.3333333333333333,
             "#9c179e"
            ],
            [
             0.4444444444444444,
             "#bd3786"
            ],
            [
             0.5555555555555556,
             "#d8576b"
            ],
            [
             0.6666666666666666,
             "#ed7953"
            ],
            [
             0.7777777777777778,
             "#fb9f3a"
            ],
            [
             0.8888888888888888,
             "#fdca26"
            ],
            [
             1,
             "#f0f921"
            ]
           ],
           "sequentialminus": [
            [
             0,
             "#0d0887"
            ],
            [
             0.1111111111111111,
             "#46039f"
            ],
            [
             0.2222222222222222,
             "#7201a8"
            ],
            [
             0.3333333333333333,
             "#9c179e"
            ],
            [
             0.4444444444444444,
             "#bd3786"
            ],
            [
             0.5555555555555556,
             "#d8576b"
            ],
            [
             0.6666666666666666,
             "#ed7953"
            ],
            [
             0.7777777777777778,
             "#fb9f3a"
            ],
            [
             0.8888888888888888,
             "#fdca26"
            ],
            [
             1,
             "#f0f921"
            ]
           ]
          },
          "colorway": [
           "#636efa",
           "#EF553B",
           "#00cc96",
           "#ab63fa",
           "#FFA15A",
           "#19d3f3",
           "#FF6692",
           "#B6E880",
           "#FF97FF",
           "#FECB52"
          ],
          "font": {
           "color": "#2a3f5f"
          },
          "geo": {
           "bgcolor": "white",
           "lakecolor": "white",
           "landcolor": "white",
           "showlakes": true,
           "showland": true,
           "subunitcolor": "#C8D4E3"
          },
          "hoverlabel": {
           "align": "left"
          },
          "hovermode": "closest",
          "mapbox": {
           "style": "light"
          },
          "paper_bgcolor": "white",
          "plot_bgcolor": "white",
          "polar": {
           "angularaxis": {
            "gridcolor": "#EBF0F8",
            "linecolor": "#EBF0F8",
            "ticks": ""
           },
           "bgcolor": "white",
           "radialaxis": {
            "gridcolor": "#EBF0F8",
            "linecolor": "#EBF0F8",
            "ticks": ""
           }
          },
          "scene": {
           "xaxis": {
            "backgroundcolor": "white",
            "gridcolor": "#DFE8F3",
            "gridwidth": 2,
            "linecolor": "#EBF0F8",
            "showbackground": true,
            "ticks": "",
            "zerolinecolor": "#EBF0F8"
           },
           "yaxis": {
            "backgroundcolor": "white",
            "gridcolor": "#DFE8F3",
            "gridwidth": 2,
            "linecolor": "#EBF0F8",
            "showbackground": true,
            "ticks": "",
            "zerolinecolor": "#EBF0F8"
           },
           "zaxis": {
            "backgroundcolor": "white",
            "gridcolor": "#DFE8F3",
            "gridwidth": 2,
            "linecolor": "#EBF0F8",
            "showbackground": true,
            "ticks": "",
            "zerolinecolor": "#EBF0F8"
           }
          },
          "shapedefaults": {
           "line": {
            "color": "#2a3f5f"
           }
          },
          "ternary": {
           "aaxis": {
            "gridcolor": "#DFE8F3",
            "linecolor": "#A2B1C6",
            "ticks": ""
           },
           "baxis": {
            "gridcolor": "#DFE8F3",
            "linecolor": "#A2B1C6",
            "ticks": ""
           },
           "bgcolor": "white",
           "caxis": {
            "gridcolor": "#DFE8F3",
            "linecolor": "#A2B1C6",
            "ticks": ""
           }
          },
          "title": {
           "x": 0.05
          },
          "xaxis": {
           "automargin": true,
           "gridcolor": "#EBF0F8",
           "linecolor": "#EBF0F8",
           "ticks": "",
           "title": {
            "standoff": 15
           },
           "zerolinecolor": "#EBF0F8",
           "zerolinewidth": 2
          },
          "yaxis": {
           "automargin": true,
           "gridcolor": "#EBF0F8",
           "linecolor": "#EBF0F8",
           "ticks": "",
           "title": {
            "standoff": 15
           },
           "zerolinecolor": "#EBF0F8",
           "zerolinewidth": 2
          }
         }
        },
        "xaxis": {
         "autorange": true,
         "showspikes": false
        },
        "yaxis": {
         "autorange": true,
         "showspikes": false
        }
       },
       "_py2js_animate": {},
       "_py2js_deleteTraces": {},
       "_py2js_moveTraces": {},
       "_py2js_removeTraceProps": {},
       "_py2js_restyle": {},
       "_py2js_update": {},
       "_view_count": 1
      }
     }
    },
    "version_major": 2,
    "version_minor": 0
   }
  }
 },
 "nbformat": 4,
 "nbformat_minor": 4
}
