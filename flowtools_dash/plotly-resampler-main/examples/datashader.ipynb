{
 "cells": [
  {
   "cell_type": "markdown",
   "metadata": {},
   "source": [
    "This notebook is a derivation of the [datashader time series](https://datashader.org/user_guide/Timeseries.html) notebook and serves as a mean to compare the datashader vs. plotly-resampler functionality."
   ]
  },
  {
   "cell_type": "code",
   "execution_count": null,
   "metadata": {},
   "outputs": [],
   "source": [
    "%load_ext autoreload\n",
    "%autoreload 2\n",
    "\n",
    "# !pip install jupyter_bokeh datashader panel holoviews bokeh"
   ]
  },
  {
   "cell_type": "code",
   "execution_count": null,
   "metadata": {},
   "outputs": [],
   "source": [
    "import datetime\n",
    "import pandas as pd\n",
    "import numpy as np\n",
    "import xarray as xr\n",
    "import datashader as ds\n",
    "import datashader.transfer_functions as tf\n",
    "from collections import OrderedDict\n",
    "import panel as pn\n",
    "import holoviews as hv\n",
    "from holoviews.operation.datashader import datashade\n",
    "\n",
    "from plotly_resampler import FigureResampler, EfficientLTTB\n",
    "import plotly.graph_objects as go"
   ]
  },
  {
   "cell_type": "code",
   "execution_count": null,
   "metadata": {},
   "outputs": [],
   "source": [
    "hv.extension(\"bokeh\")\n",
    "pn.extension(comms='ipywidgets')"
   ]
  },
  {
   "cell_type": "markdown",
   "metadata": {},
   "source": [
    "### Generate fake data"
   ]
  },
  {
   "cell_type": "markdown",
   "metadata": {},
   "source": [
    "This data has 10 signal modalties, which are highly correlated and one modality (`a`) has some outliers."
   ]
  },
  {
   "cell_type": "code",
   "execution_count": null,
   "metadata": {},
   "outputs": [],
   "source": [
    "# Constants\n",
    "np.random.seed(2)\n",
    "n = 1_000_000                                # Number of points\n",
    "cols = list('abcdefg')                       # Column names of samples\n",
    "start = datetime.datetime(2010, 10, 1, 0)    # Start time\n",
    "\n",
    "# Generate a fake signal\n",
    "signal = np.random.normal(0, 0.3, size=n).cumsum() + 50\n",
    "\n",
    "# Generate many noisy samples from the signal\n",
    "noise = lambda var, bias, n: np.random.normal(bias, var, n)\n",
    "data = {c: signal + noise(1, 10*(np.random.random() - 0.5), n) for c in cols}\n",
    "\n",
    "# Add some \"rogue lines\" that differ from the rest \n",
    "cols += ['x'] ; data['x'] = signal + np.random.normal(0, 0.02, size=n).cumsum() # Gradually diverges\n",
    "cols += ['y'] ; data['y'] = signal + noise(1, 20*(np.random.random() - 0.5), n) # Much noisier\n",
    "cols += ['z'] ; data['z'] = signal # No noise at all\n",
    "\n",
    "# Pick a few samples from the first line and really blow them out\n",
    "locs = np.random.choice(n, 10)\n",
    "data['a'][locs] *= 2\n",
    "\n",
    "# Create a dataframe\n",
    "data['Time'] = [start + datetime.timedelta(minutes=1)*i for i in range(n)]\n",
    "\n",
    "df = pd.DataFrame(data)\n",
    "df.tail(3)"
   ]
  },
  {
   "cell_type": "code",
   "execution_count": null,
   "metadata": {},
   "outputs": [],
   "source": [
    "df['ITime'] = pd.to_datetime(df['Time']).astype('int64')"
   ]
  },
  {
   "cell_type": "code",
   "execution_count": null,
   "metadata": {},
   "outputs": [],
   "source": [
    "# Default plot ranges:\n",
    "x_range = (df.iloc[0].ITime, df.iloc[-1].ITime)\n",
    "y_range = (1.2*signal.min(), 1.2*signal.max())\n",
    "\n",
    "print(\"x_range: {0} y_range: {1}\".format(x_range,y_range))"
   ]
  },
  {
   "cell_type": "markdown",
   "metadata": {},
   "source": [
    "## 1. Plotting all the datapoints"
   ]
  },
  {
   "cell_type": "code",
   "execution_count": null,
   "metadata": {},
   "outputs": [],
   "source": [
    "%%time\n",
    "cvs = ds.Canvas(x_range=x_range, y_range=y_range, plot_height=300, plot_width=900)\n",
    "aggs= OrderedDict((c, cvs.line(df, 'ITime', c)) for c in cols)"
   ]
  },
  {
   "cell_type": "markdown",
   "metadata": {},
   "source": [
    "### A single, noisy trace"
   ]
  },
  {
   "cell_type": "code",
   "execution_count": null,
   "metadata": {},
   "outputs": [],
   "source": [
    "%%time\n",
    "# Visualize a single column\n",
    "img = tf.shade(aggs['a'])\n",
    "img"
   ]
  },
  {
   "cell_type": "markdown",
   "metadata": {},
   "source": [
    "The result looks similar to what you might find in any plotting program, but it uses all 100,000 datapoints, and would work similarly for 1, 10, or 100 million points (determined by the n attribute above)."
   ]
  },
  {
   "cell_type": "markdown",
   "metadata": {},
   "source": [
    "Why is using all the datapoints important? To see, let’s downsample the data by a factor of 10, plotting 10,000 datapoints for the same curve:"
   ]
  },
  {
   "cell_type": "code",
   "execution_count": null,
   "metadata": {},
   "outputs": [],
   "source": [
    "mask = (df.index % 10) == 0\n",
    "tf.shade(cvs.line(df[mask][['a','ITime']], 'ITime', 'a'))"
   ]
  },
  {
   "cell_type": "code",
   "execution_count": null,
   "metadata": {},
   "outputs": [],
   "source": [
    "%%time\n",
    "fr = FigureResampler(default_n_shown_samples=2000)\n",
    "for c in ['a']:\n",
    "    fr.add_trace(go.Scattergl(name=c, line_width=1), hf_x=df.Time, hf_y=df[c])\n",
    "fr.update_layout(template='plotly_white')\n",
    "fr.show_dash(mode='inline', port=8049)"
   ]
  },
  {
   "cell_type": "markdown",
   "metadata": {},
   "source": [
    "### All the traces"
   ]
  },
  {
   "cell_type": "code",
   "execution_count": null,
   "metadata": {},
   "outputs": [],
   "source": [
    "renamed = [aggs[key].rename({key: 'value'}) for key in aggs]\n",
    "merged = xr.concat(renamed, 'cols')"
   ]
  },
  {
   "cell_type": "code",
   "execution_count": null,
   "metadata": {},
   "outputs": [],
   "source": [
    "total = tf.shade(merged.sum(dim='cols').astype('uint32'), how='linear')\n",
    "total"
   ]
  },
  {
   "cell_type": "markdown",
   "metadata": {},
   "source": [
    "With study, the overall structure of this dataset should be clear, according to what we know we put in when we created them:\n",
    "\n",
    "1. Individual rogue datapoints from curve ‘a’ are clearly visible (the seven sharp spikes)\n",
    "2. The trend is clearly visible (for the viridis colormap, the darkest greens show the areas of highest overlap)\n",
    "3. Line ‘x’ that gradually diverges from the trend is clearly visible (as the light blue (low-count) areas that increase below the right half of the plot).\n",
    "\n",
    "(Note that if you change the random seed or the number of datapoints, the specific values and locations will differ from those mentioned in the text.)\n",
    "\n",
    "**None of these observations would have been possible with downsampled, overplotted curves as would be typical of other plotting approaches.**"
   ]
  },
  {
   "cell_type": "code",
   "execution_count": null,
   "metadata": {},
   "outputs": [],
   "source": [
    "%%time\n",
    "fr = FigureResampler(default_n_shown_samples=2_000)\n",
    "for c in cols:\n",
    "    fr.add_trace(\n",
    "        go.Scattergl(name=c, marker_color='darkblue', opacity=.15, line_width=1),\n",
    "        hf_x=df.Time, hf_y=df[c]\n",
    "    )\n",
    "fr.update_layout(template='plotly_white')\n",
    "fr.show_dash(mode='inline', port=8048)"
   ]
  },
  {
   "cell_type": "markdown",
   "metadata": {},
   "source": [
    "---"
   ]
  },
  {
   "cell_type": "markdown",
   "metadata": {},
   "source": [
    "## **Intermezzo** Incorporating LTTB into holoviews"
   ]
  },
  {
   "cell_type": "code",
   "execution_count": null,
   "metadata": {},
   "outputs": [],
   "source": [
    "s = df['a']\n",
    "s.index = df['ITime']\n",
    "s.index.name = 'timestamp'"
   ]
  },
  {
   "cell_type": "code",
   "execution_count": null,
   "metadata": {},
   "outputs": [],
   "source": [
    "s.reset_index()"
   ]
  },
  {
   "cell_type": "code",
   "execution_count": null,
   "metadata": {},
   "outputs": [],
   "source": [
    "s = df['x']\n",
    "s.index = df['ITime']"
   ]
  },
  {
   "cell_type": "markdown",
   "metadata": {},
   "source": [
    "TODO alter this into a dynamic map of an overlay of traces."
   ]
  },
  {
   "cell_type": "code",
   "execution_count": null,
   "metadata": {},
   "outputs": [],
   "source": [
    "%%time\n",
    "def resample_lttb(x_range) -> hv.Curve:\n",
    "    if x_range is None or (np.isnan(x_range[0]) or np.isnan(x_range[1])):\n",
    "        s_ = s\n",
    "    else:\n",
    "        s_ = s.loc[int(x_range[0]) : int(x_range[1])]\n",
    "\n",
    "    s_ = EfficientLTTB().aggregate(s_, n_out=2000)\n",
    "    s_.index.name = \"timestamp\"\n",
    "    return hv.Curve(s_.reset_index(), \"timestamp\")\n",
    "\n",
    "\n",
    "layout = hv.Overlay(\n",
    "    [hv.DynamicMap(resample_lttb, streams=[hv.streams.RangeX()]) for _ in range(1)]\n",
    ").collate()\n",
    "layout.opts(hv.opts.Curve(axiswise=True, width=800, height=500, tools=[\"xwheel_zoom\"]))"
   ]
  },
  {
   "cell_type": "markdown",
   "metadata": {},
   "source": [
    "---"
   ]
  },
  {
   "cell_type": "markdown",
   "metadata": {},
   "source": [
    "## Datashader vs plotly-resampler"
   ]
  },
  {
   "cell_type": "markdown",
   "metadata": {},
   "source": [
    "### Datashader vs plotly-resampler: `noisy-sine`"
   ]
  },
  {
   "cell_type": "code",
   "execution_count": null,
   "metadata": {},
   "outputs": [],
   "source": [
    "n = 1_000_000\n",
    "x = np.arange(n)\n",
    "noisy_sine = (np.sin(x / 3_000) + (np.random.randn(n) / 10)) * x / 5_000\n",
    "df_ = pd.DataFrame({\"ns\": noisy_sine, \"ns_abs\": np.abs(noisy_sine)})"
   ]
  },
  {
   "cell_type": "code",
   "execution_count": null,
   "metadata": {},
   "outputs": [],
   "source": [
    "opts = hv.opts.RGB(width=800, height=400)\n",
    "ndoverlay = hv.NdOverlay({c:hv.Curve((df_.index, df_[c])) for c in df_.columns})\n",
    "datashade(ndoverlay, cnorm='linear', aggregator=ds.count(), line_width=3).opts(opts)"
   ]
  },
  {
   "cell_type": "code",
   "execution_count": null,
   "metadata": {},
   "outputs": [],
   "source": [
    "fr = FigureResampler(default_n_shown_samples=3000)\n",
    "for c in set(df_.columns).difference([\"Time\"]):\n",
    "    fr.add_trace(\n",
    "        go.Scattergl(\n",
    "            name=c,\n",
    "            marker_color=\"blue\",\n",
    "            mode=\"lines+markers\",\n",
    "            opacity=0.1,\n",
    "            marker_size=3,\n",
    "        ),\n",
    "        hf_y=df_[c],\n",
    "    )\n",
    "fr.show_dash(mode=\"inline\", port=8091)"
   ]
  },
  {
   "cell_type": "markdown",
   "metadata": {},
   "source": [
    "### Datashader vs plotly-resampler: `multiple-trends`"
   ]
  },
  {
   "cell_type": "code",
   "execution_count": null,
   "metadata": {},
   "outputs": [],
   "source": [
    "signals = [np.random.normal(0, 0.3, size=n).cumsum() + 50,\n",
    "           np.random.normal(0, 0.3, size=n).cumsum() + 50,\n",
    "           np.random.normal(0, 0.3, size=n).cumsum() + 50]\n",
    "data = {c: signals[i%3] + noise(1+i, 5*(np.random.random() - 0.5), n)  for (i,c) in enumerate(cols)}\n",
    "y_range = (1.2*min([s.min() for s in signals]), 1.2*max([s.max() for s in signals]))    \n",
    "\n",
    "data['Time'] = df['Time']\n",
    "dfm = pd.DataFrame(data)\n",
    "dfm.shape"
   ]
  },
  {
   "cell_type": "code",
   "execution_count": null,
   "metadata": {},
   "outputs": [],
   "source": [
    "opts = hv.opts.RGB(width=600, height=300)\n",
    "ndoverlay = hv.NdOverlay({c:hv.Curve((dfm.index, dfm[c]), vdims=['Time']) for c in cols})\n",
    "datashade(ndoverlay, cnorm='linear', aggregator=ds.count(), line_width=3).opts(opts)"
   ]
  },
  {
   "cell_type": "code",
   "execution_count": null,
   "metadata": {},
   "outputs": [],
   "source": [
    "fr = FigureResampler(default_n_shown_samples=2000)\n",
    "for c in set(dfm.columns).difference(['Time']):\n",
    "    fr.add_trace(go.Scattergl(name=c, marker_color='blue', opacity=0.1), hf_x=dfm.Time, hf_y=dfm[c])\n",
    "fr.update_layout(template='plotly_white')\n",
    "fr.show_dash(mode='inline', port=8091)"
   ]
  }
 ],
 "metadata": {
  "kernelspec": {
   "display_name": "Python 3.8.13 ('plotly-resampler-banchmarking-3GdKRJ5C-py3.8')",
   "language": "python",
   "name": "python3"
  },
  "language_info": {
   "codemirror_mode": {
    "name": "ipython",
    "version": 3
   },
   "file_extension": ".py",
   "mimetype": "text/x-python",
   "name": "python",
   "nbconvert_exporter": "python",
   "pygments_lexer": "ipython3",
   "version": "3.8.13"
  },
  "orig_nbformat": 4,
  "vscode": {
   "interpreter": {
    "hash": "82c135db9361424c3b853a45d91d5ed5b1f3a987b6016740c085869f504976f7"
   }
  }
 },
 "nbformat": 4,
 "nbformat_minor": 2
}
